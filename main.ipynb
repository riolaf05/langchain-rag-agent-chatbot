{
 "cells": [
  {
   "cell_type": "markdown",
   "metadata": {},
   "source": [
    "Voglio customizzare il prompt ReAct in base al caso d'uso del chatbot, vedi [link](https://towardsdatascience.com/using-langchain-react-agents-for-answering-multi-hop-questions-in-rag-systems-893208c1847e)"
   ]
  },
  {
   "cell_type": "code",
   "execution_count": 1,
   "metadata": {},
   "outputs": [],
   "source": [
    "import os\n",
    "import telepot\n",
    "from telepot.loop import MessageLoop\n",
    "import datetime\n",
    "import time\n",
    "from langchain import hub\n",
    "from langchain.agents import AgentExecutor, create_react_agent\n",
    "from langchain.prompts import SystemMessagePromptTemplate\n",
    "from langchain_core.prompts import ChatPromptTemplate\n",
    "from langchain_core.runnables import RunnablePassthrough\n",
    "from langchain_groq import ChatGroq\n",
    "import re\n",
    "from langchain.agents import create_tool_calling_agent\n",
    "from dotenv import load_dotenv\n",
    "load_dotenv(override=True)\n",
    "GROQ_API_KEY=os.getenv(\"GROQ_API_KEY\")"
   ]
  },
  {
   "cell_type": "code",
   "execution_count": 2,
   "metadata": {},
   "outputs": [
    {
     "name": "stderr",
     "output_type": "stream",
     "text": [
      "c:\\Users\\ELAFACRB1\\Codice\\GitHub\\langchain-rag-agent-chatbot\\.venv\\rag\\Lib\\site-packages\\tqdm\\auto.py:21: TqdmWarning: IProgress not found. Please update jupyter and ipywidgets. See https://ipywidgets.readthedocs.io/en/stable/user_install.html\n",
      "  from .autonotebook import tqdm as notebook_tqdm\n",
      "Fetching 5 files: 100%|██████████| 5/5 [00:00<00:00, 4800.07it/s]\n"
     ]
    }
   ],
   "source": [
    "#Tools\n",
    "from tools.retrieval_eventi import get_relevant_document_tool \n",
    "from tools.tavily import web_search_tool \n",
    "from tools.utils import get_today_date_tool, get_summarized_text_tool\n",
    "from tools.aws import ec2_shutdown_tools, ec2_turnon_tools\n",
    "from prompts.react import prompt_react\n",
    "from tools.google import get_calendar_events\n"
   ]
  },
  {
   "cell_type": "code",
   "execution_count": 3,
   "metadata": {},
   "outputs": [],
   "source": [
    "tools = [get_relevant_document_tool, get_today_date_tool, web_search_tool, ec2_shutdown_tools, ec2_turnon_tools, get_calendar_events]"
   ]
  },
  {
   "cell_type": "code",
   "execution_count": 4,
   "metadata": {},
   "outputs": [],
   "source": [
    "# new_prompt_react=\"\"\"\n",
    "# Use the context given to you to answer the question.\n",
    "# When you come across time based questions like Has there been increase in sales from April last year and August last year,\n",
    "# use today's date as {today_date} for fetching exact start and end dates. Then your first action should be to fetch the sales data with metadata time between April 1st to April 30th.\n",
    "# That will be your answer 1. Your next action will be to fetch the sales data with metadata time between August 1st to\n",
    "# August 31st, this will be your answer 2. Now analyse and understand each of answer 1 and answer 2, calculate the\n",
    "# percentange change, compare them and answer the question.\n",
    "\n",
    "# You have access to the following tools:\n",
    "\n",
    "# {tools}\n",
    "# Use the following format:\n",
    "\n",
    "# Question: the input question you must answer\n",
    "# Thought: you should always think about what to do\n",
    "# Action: the action to take, should be one of [{tool_names}]\n",
    "# Action Input: the input to the action\n",
    "# Observation: the result of the action\n",
    "# ... (this Thought/Action/Action Input/Observation can repeat N times)\n",
    "# Thought: I now know the final answer\n",
    "# Final Answer: the final answer to the original input question\n",
    "\n",
    "# Begin!\n",
    "\n",
    "# Question: {input}\n",
    "# Thought:{agent_scratchpad}\n",
    "# \"\"\""
   ]
  },
  {
   "cell_type": "code",
   "execution_count": 5,
   "metadata": {},
   "outputs": [],
   "source": [
    "prompt = hub.pull(\"hwchase17/openai-functions-agent\")"
   ]
  },
  {
   "cell_type": "code",
   "execution_count": 6,
   "metadata": {},
   "outputs": [
    {
     "data": {
      "text/plain": [
       "[SystemMessagePromptTemplate(prompt=PromptTemplate(input_variables=[], template='You are a helpful assistant')),\n",
       " MessagesPlaceholder(variable_name='chat_history', optional=True),\n",
       " HumanMessagePromptTemplate(prompt=PromptTemplate(input_variables=['input'], template='{input}')),\n",
       " MessagesPlaceholder(variable_name='agent_scratchpad')]"
      ]
     },
     "execution_count": 6,
     "metadata": {},
     "output_type": "execute_result"
    }
   ],
   "source": [
    "prompt.messages"
   ]
  },
  {
   "cell_type": "code",
   "execution_count": 7,
   "metadata": {},
   "outputs": [],
   "source": [
    "system_template = 'Sei un aiutante servizievole.'\n",
    "system_message_prompt_template = SystemMessagePromptTemplate.from_template(\n",
    "    system_template)\n",
    "prompt.messages[0]=system_message_prompt_template"
   ]
  },
  {
   "cell_type": "code",
   "execution_count": 8,
   "metadata": {},
   "outputs": [
    {
     "data": {
      "text/plain": [
       "[SystemMessagePromptTemplate(prompt=PromptTemplate(input_variables=[], template='Sei un aiutante servizievole.')),\n",
       " MessagesPlaceholder(variable_name='chat_history', optional=True),\n",
       " HumanMessagePromptTemplate(prompt=PromptTemplate(input_variables=['input'], template='{input}')),\n",
       " MessagesPlaceholder(variable_name='agent_scratchpad')]"
      ]
     },
     "execution_count": 8,
     "metadata": {},
     "output_type": "execute_result"
    }
   ],
   "source": [
    "prompt.messages"
   ]
  },
  {
   "cell_type": "code",
   "execution_count": 9,
   "metadata": {},
   "outputs": [],
   "source": [
    "model = ChatGroq(model_name=\"llama3-70b-8192\", groq_api_key=GROQ_API_KEY, temperature=0)\n",
    "agent = create_tool_calling_agent(model, tools, prompt)"
   ]
  },
  {
   "cell_type": "code",
   "execution_count": 10,
   "metadata": {},
   "outputs": [],
   "source": [
    "react_agent_executor = AgentExecutor(\n",
    "    agent=agent, \n",
    "    tools=tools, \n",
    "    verbose=True, \n",
    "    handle_parsing_errors=True\n",
    ")"
   ]
  },
  {
   "cell_type": "code",
   "execution_count": 11,
   "metadata": {},
   "outputs": [
    {
     "name": "stdout",
     "output_type": "stream",
     "text": [
      "\n",
      "\n",
      "\u001b[1m> Entering new AgentExecutor chain...\u001b[0m\n",
      "\u001b[32;1m\u001b[1;3m\n",
      "Invoking: `get_calendar_events` with `{'num_events': 2}`\n",
      "\n",
      "\n",
      "\u001b[0m\u001b[38;5;200m\u001b[1;3m[{'kind': 'calendar#event', 'etag': '\"3430018974216000\"', 'id': 'c8s32dhjc9hj4bb670pj4b9k6dj36bb1c4rm6b9k75h34p9l6cr68dpi6s', 'status': 'confirmed', 'htmlLink': 'https://www.google.com/calendar/event?eid=YzhzMzJkaGpjOWhqNGJiNjcwcGo0YjlrNmRqMzZiYjFjNHJtNmI5azc1aDM0cDlsNmNyNjhkcGk2cyBsYWZhY2Vyb3NhcmlvQG0', 'created': '2024-05-06T14:03:35.000Z', 'updated': '2024-05-06T15:31:27.108Z', 'summary': 'Salone auto Torino', 'location': 'Torino TO, Italia', 'creator': {'email': 'lafacerosario@gmail.com', 'self': True}, 'organizer': {'email': 'lafacerosario@gmail.com', 'self': True}, 'start': {'date': '2024-09-13'}, 'end': {'date': '2024-09-16'}, 'transparency': 'transparent', 'iCalUID': 'c8s32dhjc9hj4bb670pj4b9k6dj36bb1c4rm6b9k75h34p9l6cr68dpi6s@google.com', 'sequence': 0, 'attendees': [{'email': 'tropeatania@gmail.com', 'responseStatus': 'accepted'}, {'email': 'lafacerosario@gmail.com', 'organizer': True, 'self': True, 'responseStatus': 'accepted'}, {'email': 'gioiur00@gmail.com', 'responseStatus': 'needsAction'}], 'reminders': {'useDefault': False}, 'eventType': 'default'}, {'kind': 'calendar#event', 'etag': '\"3451135075870000\"', 'id': '_60q30c1g60o30e1i60o4ac1g60rj8gpl88rj2c1h84s34h9g60s30c1g60o30c1g751j8e1g6oo44gpn8p348g9g64o30c1g60o30c1g60o30c1g60o32c1g60o30c1g84sjch246sq32dpj8533cc9k8d138e9j8crj4da56csjgc9i84qg', 'status': 'confirmed', 'htmlLink': 'https://www.google.com/calendar/event?eid=XzYwcTMwYzFnNjBvMzBlMWk2MG80YWMxZzYwcmo4Z3BsODhyajJjMWg4NHMzNGg5ZzYwczMwYzFnNjBvMzBjMWc3NTFqOGUxZzZvbzQ0Z3BuOHAzNDhnOWc2NG8zMGMxZzYwbzMwYzFnNjBvMzBjMWc2MG8zMmMxZzYwbzMwYzFnODRzamNoMjQ2c3EzMmRwajg1MzNjYzlrOGQxMzhlOWo4Y3JqNGRhNTZjc2pnYzlpODRxZyBsYWZhY2Vyb3NhcmlvQG0', 'created': '2024-09-05T19:08:52.000Z', 'updated': '2024-09-05T20:18:57.935Z', 'summary': 'Update ', 'description': '\\n________________________________________________________________________________\\nMicrosoft Teams Need help?<https://aka.ms/JoinTeamsMeeting?omkt=en-US>\\nJoin the meeting now<https://teams.microsoft.com/l/meetup-join/19%3ameeting_MzkyZjVlMWYtNGQ0Mi00NTM0LWE1MGYtMzc0MjYxMzU3NGUz%40thread.v2/0?context=%7b%22Tid%22%3a%2238ae3bcd-9579-4fd4-adda-b42e1495d55a%22%2c%22Oid%22%3a%22905c3ee5-a20a-4870-a0bb-ba1bcc538615%22%7d>\\nMeeting ID: 333 056 454 011\\nPasscode: w7kNpK\\n________________________________\\nDial in by phone\\n+420 234 715 933,,540100614#<tel:+420234715933,,540100614#> Czechia, Prague\\nFind a local number<https://dialin.teams.microsoft.com/74042a74-a90b-4ccc-8227-e22b08bb88da?id=540100614>\\nPhone conference ID: 540 100 614#\\nFor organizers: Meeting options<https://teams.microsoft.com/meetingOptions/?organizerId=905c3ee5-a20a-4870-a0bb-ba1bcc538615&tenantId=38ae3bcd-9579-4fd4-adda-b42e1495d55a&threadId=19_meeting_MzkyZjVlMWYtNGQ0Mi00NTM0LWE1MGYtMzc0MjYxMzU3NGUz@thread.v2&messageId=0&language=en-US> | Reset dial-in PIN<https://dialin.teams.microsoft.com/usp/pstnconferencing>\\n________________________________________________________________________________\\n', 'location': 'Microsoft Teams Meeting', 'creator': {'email': 'lafacerosario@gmail.com', 'self': True}, 'organizer': {'email': 'stefano.silvani@siemens.com', 'displayName': 'Silvani, Stefano'}, 'start': {'dateTime': '2024-09-13T17:00:00+02:00', 'timeZone': 'Europe/Amsterdam'}, 'end': {'dateTime': '2024-09-13T18:00:00+02:00', 'timeZone': 'Europe/Amsterdam'}, 'iCalUID': '040000008200E00074C5B7101A82E008000000009C48060BC7FFDA01000000000000000010000000A96DD74173AF614CB493C725E39812A5', 'sequence': 0, 'attendees': [{'email': 'lafacerosario@gmail.com', 'self': True, 'responseStatus': 'accepted'}, {'email': 'michael.okoli@siemens.com', 'responseStatus': 'needsAction'}, {'email': 'stefano.silvani@siemens.com', 'displayName': 'Silvani, Stefano', 'organizer': True, 'responseStatus': 'accepted'}], 'guestsCanInviteOthers': False, 'privateCopy': True, 'reminders': {'useDefault': True}, 'eventType': 'default'}]\u001b[0m\u001b[32;1m\u001b[1;3mI see that the tool call yielded two events from your calendar. Here are the details of the next two events:\n",
      "\n",
      "1. **Salone auto Torino**: This event is scheduled to take place from September 13, 2024, to September 16, 2024, in Torino, Italy.\n",
      "2. **Update**: This event is a Microsoft Teams meeting scheduled for September 13, 2024, from 17:00 to 18:00 (CEST) with the meeting ID 333 056 454 011 and passcode w7kNpK.\n",
      "\n",
      "Let me know if you need any further assistance!\u001b[0m\n",
      "\n",
      "\u001b[1m> Finished chain.\u001b[0m\n"
     ]
    }
   ],
   "source": [
    "res = react_agent_executor.invoke({\"input\": \"quali sno i prossimi 2 eventi nel mio calendario?\"})"
   ]
  },
  {
   "cell_type": "code",
   "execution_count": 12,
   "metadata": {},
   "outputs": [
    {
     "data": {
      "text/plain": [
       "'I see that the tool call yielded two events from your calendar. Here are the details of the next two events:\\n\\n1. **Salone auto Torino**: This event is scheduled to take place from September 13, 2024, to September 16, 2024, in Torino, Italy.\\n2. **Update**: This event is a Microsoft Teams meeting scheduled for September 13, 2024, from 17:00 to 18:00 (CEST) with the meeting ID 333 056 454 011 and passcode w7kNpK.\\n\\nLet me know if you need any further assistance!'"
      ]
     },
     "execution_count": 12,
     "metadata": {},
     "output_type": "execute_result"
    }
   ],
   "source": [
    "res['output']"
   ]
  },
  {
   "cell_type": "code",
   "execution_count": 13,
   "metadata": {},
   "outputs": [
    {
     "name": "stdout",
     "output_type": "stream",
     "text": [
      "\n",
      "\n",
      "\u001b[1m> Entering new AgentExecutor chain...\u001b[0m\n"
     ]
    },
    {
     "name": "stdout",
     "output_type": "stream",
     "text": [
      "\u001b[32;1m\u001b[1;3m\n",
      "Invoking: `Web eventi` with `euristica`\n",
      "\n",
      "\n",
      "\u001b[0mCollection web-places already exists!\n",
      "\u001b[36;1m\u001b[1;3m20/10/2021      COSA CERCHICOSA CERCHI Seleziona una categoria AI News Bere&mangiare    Come?       All’aperto       Carne o pesce       Informale       Italiano       Kids Friendly       Occasione speciale       Pet friendly       Tiratardi       Uscite di gruppo&feste    Compilation    Cosa?       Carne       Cinese       Dolci&Pane       Gastronomie&Alimentari       Gelato       Giapponese       Internazionale       Pesce       Pizza       Street Food       Trattorie&Osterie       Veggie&Gluten Free       Vino, birra & drink    Delivery    Dove?       Arco&Sempione       Brera&Garibaldi       Cadorna&Sant’Ambrogio       Centrale&Repubblica       Cinque Giornate       Citt√† Studi       Duomo&San Babila       Isola       Lambrate       Loreto&Nolo       Navigli&Porta Genova       Porta Romana& Lodi       Porta Venezia       SantAgostino&Solari       Sarpi&Monumentale       Un po’ pi√π fuori       Wagner&De Angeli    Flop    I nostri preferiti    Novit√†    Quando?       Aperitivo       Brunch       Cena       Colazione       Dopocena       Merenda       Pranzo       Pranzo&Cena    Quanto vuoi spendere?       ‚Ç¨       ‚Ç¨‚Ç¨       ‚Ç¨‚Ç¨‚Ç¨ Cucinare&leggere    Cene Anziane    Home Edition    Libri    Schiscette Guide di quartiere Interviste News Tour Uncategorized Viaggiare    Citt√†    Gite fuori porta    Mete lontane    Road trip Vivere&Fare    App&Tech    Beauty&Relax    Cultura    Dormire    Eventi    Green&Sociale    Idee regalo    Passeggiate    Shopping    Sport             CONOSCOUNPOSTO      Iscriviti alla newsletter e rimani sempre aggiornato!        *[email protected]         Letta l‚Äôinformativa privacy disponibile qui, acconsento a ricevere via email ‚ÄúConosco una Newsletter‚Äù                    Facebook   Instagram   Email   Spotify   Telegram   Tiktok       Home Page Cookie Policy Note legali Privacy Policy Dai, iscriviti alla nostra newsletter!\n",
      "\n",
      "Uno scorcio dell‚Äôesterno | ¬© Cascina Santa Brera fb   Azienda agricola e agriristoro nel cuore del Parco Agricolo Sud, Cascina Santa Brera produce frutta, ortaggi, frumento, miele e uova da agricoltura biologica. Qui ci si pu√≤ recare per acquistare i prodotti in vendita presso lo spaccio, per prendere parte a visite guidate e laboratori didattici, ma anche per mangiare e rilassarsi all‚Äôaperto. In tavola, affettati e formaggi di produzione propria, verdure e salamelle alla piastra, pizze, hamburger, torte fatte in casa e sorbetti. CASCINA SANTA BRERA. Cascina Santa Brera, San Giuliano Milanese (MI). 02 9838752.  I SILOS  Uno scorcio del portico esterno | ¬© I Silos fb L‚Äôazienda agricola I Silos √® immersa nel verde e nella tranquillit√† del Parco del Ticino. √à una tipica cascina lombarda dove troverete l‚Äôallevamento di capre e di tori, la produzione casearia e di conserve, la pensione per i cavalli e, naturalmente, un ristorante. La sala √® semplice e rustica, ma la cucina √® raffinata e davvero squisita. E dopo pranzo, potrete godere anche di ampi spazi per passeggiate e cavalcate. I SILOS. Cascina Cantarana, Besate (MI). 02 90504200.  CASCINA SANT‚ÄôAMBROGIO  Alcuni tavoli in giardino | ¬© Cascina Sant‚ÄôAmbrogio fb Poco dopo Gaggiano, a due passi da Milano, si trova Cascina Sant‚ÄôAmbrogio, una cascina immersa nel verde, casa di tantissimi animali con cui poter giocare. L‚Äôambiente √® davvero rilassante e familiare e la cucina semplice e genuina. Viene proposto un menu fisso che comprende un ricco e ottimo antipasto, due primi, un secondo con contorno e dolce, oltre a pane, acqua e vino. In pi√π troverete una fattoria didattica, laboratori per bambini, feste agricole stagionali e molte altre iniziative. CASCINA SANT‚ÄôAMBROGIO. Cascina Sant‚ÄôAmbrogio, Rosate (MI). 02 90849420. CASCINA CAREMMA  La vasca idromassaggio esterna | ¬© Cascina Caremma fb\n",
      "\n",
      "Uno scorcio del giardino dell‚Äôagriturismo | ¬© La Favorita fb L‚Äôagriturismo La Favorita √® un‚Äôistituzione del piacentino. √à adagiata sopra un colle da cui si gode una magnifica vista della campagna circostante ed √® possibile fare passeggiate a cavallo nei dintorni e altre attivit√† all‚Äôaria aperta, senza dimenticare che si mangia benissimo. I piatti proposti fanno parte dell‚Äôantica tradizione piacentina e spaziano dagli antipasti con i salumi e il classico gnocco fritto, ai primi come i tortelli ricotta e spinaci o i pisarei e fas√≤, e i secondi come la faraona o lo stinco di maiale (anche i dolci non sono da meno). Un consiglio, limitatevi con gli antipasti altrimenti non arrivate vivi al dolce!  AGRITURISMO LA FAVORITA. Str. Bicchignano 2, Vigolzone (PC). 0523 877412.  CASCINA BULLONA (chiuso)  I tavoli nel giardino della cascina | ¬© Cascina Bullona fb Alle porte del Parco del Ticino (ottima scelta per chi desidera fare passeggiate post-pranzo), la Cascina Bullona √® una tipica cascina lombarda con un grande giardino e la fattoria visitabile che ospita oche, asinelli, galline e molti altri animali. Ogni settimana i piatti in tavola variano per seguire la disponibilit√† delle materie prime, ma non perdono mai la loro cifra, improntata alla genuinit√†.  CASCINA BULLONA. Strada Valle 32, Magenta (MI). 02 97292091. AGRITURISMO LA SORGENTE\n",
      "\n",
      "L‚Äôingresso dell‚Äôagriturismo | ¬© La Sorgente fb Nell‚ÄôOltrep√≤ Pavese lungo la riva sinistra del torrente Staffora, troviamo l‚ÄôAgriturismo La Sorgente, un‚Äôantica casa padronale completamente immersa in grandi prati verdi coltivati a frutteti e vigneti. Grazie all‚Äôampia veranda i pranzi all‚Äôaperto sono un piacere. L‚Äôaccoglienza √® familiare e ti fa sentire come a casa, anche grazie ai numerosi animali che ti accolgono appena arrivi. Il cibo √® quello tipico della zona, ricchi antipasti da condividere, primi caserecci e buonissimi dolci ‚Äúdella nonna‚Äù.  AGRITURISMO LA SORGENTE. Via Generale Enrico Maretti 6, Varzi (PV). 340 2839950. CASCINA CARLOTTA  Una vista del cortile dall‚Äôalto | ¬© Cascina Carlotta fb Cascina Carlotta √® erede di una tradizione contadina lunga quasi 400 anni e si trova proprio alle porte di Milano, a San Giuliano Milanese. Oltre a essere un‚Äôazienda agricola a specializzazione zootecnica con allevamento di bovini da carne e uno spaccio aziendale dei propri prodotti freschissimi e a km zero, ha anche un grande spazio all‚Äôaperto per mangiare e divertirsi in compagnia dei tanti animali che scorrazzano liberi.  CASCINA CARLOTTA. Cascina Carlotta, San Giuliano Milanese (MI). 333 9858755. AGRITURISMO OASI  Lo spazio dell‚Äôagriturismo visto dall‚Äôalto | ¬© Agriturismo Oasi fb L‚ÄôAgriturismo Oasi, ad un‚Äôoretta di auto da Milano, √® sicuramente il posto adatto per gli amanti degli animali: infatti oltre a galline, oche, capre e mucche, sono presenti animali esotici e inconsueti come lama, cammelli, bisonti americani e tigri. Oltre all‚Äôottimo ristorante, troverete anche una gelateria/pasticceria, per gustose merende e un grande spazio aperto dove i grandi potranno rilassarsi e passeggiare e i piccoli si divertiranno nel grande parco giochi.  AGRITURISMO OASI. Via Ortigara 8, Cassano Magnago (VA). 0331 217718. TENUTA BRAMASOLE\u001b[0m\u001b[32;1m\u001b[1;3m\n",
      "Invoking: `tavily_search_results_json` with `{'query': 'euristica'}`\n",
      "\n",
      "\n",
      "\u001b[0m\u001b[38;5;200m\u001b[1;3m[{'url': 'https://it.wikipedia.org/wiki/Euristica', 'content': \"L'euristica è la parte dell'epistemologia e del metodo scientifico che si occupa di favorire la ricerca di nuovi sviluppi teorici e scoperte empiriche. Questa voce di Wikipedia illustra l'euristica nella psicologia, nell'informatica e nella matematica, con esempi e riferimenti bibliografici.\"}, {'url': 'https://www.treccani.it/enciclopedia/euristica/', 'content': 'Euristica Enciclopedia on line. Aspetto del metodo scientifico che comprende un insieme di strategie, tecniche e procedimenti inventivi per ricercare un argomento, un concetto o una teoria adeguati a risolvere un problema dato.'}, {'url': 'https://www.significados.com/heuristica/', 'content': 'La heurística es vista como el arte de inventar. Es la búsqueda de estrategias, métodos y criterios que permitan resolver problemas, a través de la creatividad, pensamiento divergente o lateral. También, se afirma que la heurística se basa en la experiencia propia del individuo, y en la de otros para encontrar la solución más viable al ...'}, {'url': 'https://www.merriam-webster.com/dictionary/heuristic', 'content': 'The meaning of HEURISTIC is involving or serving as an aid to learning, discovery, or problem-solving by experimental and especially trial-and-error methods; also ...'}, {'url': 'https://estudyando.com/que-son-las-heuristicas-definicion-tipos-y-ejemplos/', 'content': 'Las heurísticas son atajos intuitivos que permiten resolver problemas y tomar decisiones rápidamente cuando hay información limitada. Sin embargo, las heurísticas también pueden conducir a errores de juicio por sesgos cognitivos. Conoce los tipos y ejemplos de heurísticas en la vida cotidiana y en el mundo real.'}]\u001b[0m\u001b[32;1m\u001b[1;3mL'euristica è la parte dell'epistemologia e del metodo scientifico che si occupa di favorire la ricerca di nuovi sviluppi teorici e scoperte empiriche. È l'arte di inventare, la ricerca di strategie, metodi e criteri che permettono di risolvere problemi attraverso la creatività, il pensiero divergente o laterale. Le euristiche sono atajos intuitivi che permettono di risolvere problemi e prendere decisioni rapidamente quando c'è informazione limitata.\u001b[0m\n",
      "\n",
      "\u001b[1m> Finished chain.\u001b[0m\n"
     ]
    },
    {
     "data": {
      "text/plain": [
       "\"L'euristica è la parte dell'epistemologia e del metodo scientifico che si occupa di favorire la ricerca di nuovi sviluppi teorici e scoperte empiriche. È l'arte di inventare, la ricerca di strategie, metodi e criteri che permettono di risolvere problemi attraverso la creatività, il pensiero divergente o laterale. Le euristiche sono atajos intuitivi che permettono di risolvere problemi e prendere decisioni rapidamente quando c'è informazione limitata.\""
      ]
     },
     "execution_count": 13,
     "metadata": {},
     "output_type": "execute_result"
    }
   ],
   "source": [
    "res = react_agent_executor.invoke({\"input\": \"cos'è un'euristica?\"})\n",
    "res['output']"
   ]
  },
  {
   "cell_type": "code",
   "execution_count": null,
   "metadata": {},
   "outputs": [],
   "source": []
  }
 ],
 "metadata": {
  "kernelspec": {
   "display_name": "rag",
   "language": "python",
   "name": "python3"
  },
  "language_info": {
   "codemirror_mode": {
    "name": "ipython",
    "version": 3
   },
   "file_extension": ".py",
   "mimetype": "text/x-python",
   "name": "python",
   "nbconvert_exporter": "python",
   "pygments_lexer": "ipython3",
   "version": "3.11.9"
  }
 },
 "nbformat": 4,
 "nbformat_minor": 2
}
